{
 "cells": [
  {
   "cell_type": "markdown",
   "metadata": {},
   "source": [
    "# Experiments with Nikita's formula"
   ]
  },
  {
   "cell_type": "markdown",
   "metadata": {},
   "source": [
    "### Implementing function to compute L-value"
   ]
  },
  {
   "cell_type": "markdown",
   "metadata": {},
   "source": [
    "$${L =\\frac{\\sqrt{\\sum_{j=1}^{n}\\sum_{i=1}^{n}(\\sqrt{\\sum_{k=i}^{j}{(a_{k}^{2}+b_{k}^{2}-c_{k}^{2}-d_{k}^{2}})^{2}+(\\sum_{k=i}^{j}2(b_{k}c_{k}-a_{k}d_{k}))^{2}+(\\sum_{k=i}^{j}2(a_{k}c_{k}+b_{k}d_{k}))^{2}}-\\frac{\\sum_{m=1}^{n}\\sum_{p=1}^{n}(\\sqrt{(\\sum_{k=m}^{p}a_{k}^{2}+b_{k}^{2}-c_{k}^{2}-d_{k}^{2})^{2}+(\\sum_{k=m}^{p}2(b_{k}c_{k}-a_{k}d_{k}))^{2}+(\\sum_{k=m}^{p}2(a_{k}c_{k}+b_{k}d_{k}))^{2}})}{n(n-1)})^{2}}}{d_{londest}}}$$"
   ]
  },
  {
   "cell_type": "code",
   "execution_count": 1,
   "metadata": {},
   "outputs": [],
   "source": [
    "import numpy\n",
    "import math"
   ]
  },
  {
   "cell_type": "code",
   "execution_count": 2,
   "metadata": {},
   "outputs": [],
   "source": [
    "def compute_L(knot):\n",
    "    quat_arr = two_complex_to_quaternion(numpy.hstack(knot.initial_random_vectors))\n",
    "    n = quat_arr.shape[0]\n",
    "    \n",
    "    \n",
    "    acc_j=0\n",
    "    for j in range(0,n):\n",
    "        acc_i=0\n",
    "        for i in range(0,n):            \n",
    "            #(a^2+b^2-c^2-d^2)^2\n",
    "            acc_k_0 = 0\n",
    "            for k in range(i,j+1):\n",
    "                acc_k_0 += quat_arr[k,0]**2+quat_arr[k,1]**2-quat_arr[k,2]**2-quat_arr[k,3]**2\n",
    "            acc_k_0 = acc_k_0**2\n",
    "            \n",
    "            #(2(b*c-a*d))^2\n",
    "            acc_k_1 = 0\n",
    "            for k in range(i,j+1):\n",
    "                acc_k_1 += quat_arr[k,1]*quat_arr[k,2]-quat_arr[k,0]*quat_arr[k,3]\n",
    "            acc_k_1 = (2*acc_k_1)**2\n",
    "            \n",
    "            #(2(a*c+b*d))^2\n",
    "            acc_k_2 = 0\n",
    "            for k in range(i,j+1):\n",
    "                acc_k_2 += quat_arr[k,0]*quat_arr[k,2]+quat_arr[k,1]*quat_arr[k,3]\n",
    "            acc_k_2 = (2*acc_k_2)**2\n",
    "            \n",
    "            left_k = math.sqrt(acc_k_0+acc_k_1+acc_k_2)\n",
    "            \n",
    "            #right side of minus\n",
    "            right_k = compute_right_k(quat_arr,n)\n",
    "            \n",
    "            acc_i+=left_k-right_k\n",
    "        acc_j+=acc_i\n",
    "        \n",
    "    d_longest = compute_d_longest(knot)#numpy.max(quat_arr[:,3])\n",
    "    return math.sqrt(acc_j**2)/d_longest\n",
    "\n",
    "def compute_right_k(quat_arr,n):\n",
    "    acc_m=0\n",
    "    for m in range(0,n):\n",
    "        acc_p=0\n",
    "        for p in range(0,n):            \n",
    "            #(a^2+b^2-c^2-d^2)^2\n",
    "            acc_k_0 = 0\n",
    "            for k in range(m,p+1):\n",
    "                acc_k_0 += quat_arr[k,0]**2+quat_arr[k,1]**2-quat_arr[k,2]**2-quat_arr[k,3]**2\n",
    "            acc_k_0 = acc_k_0**2\n",
    "            \n",
    "            #(2(b*c-a*d))^2\n",
    "            acc_k_1 = 0\n",
    "            for k in range(m,p+1):\n",
    "                acc_k_1 += quat_arr[k,1]*quat_arr[k,2]-quat_arr[k,0]*quat_arr[k,3]\n",
    "            acc_k_1 = (2*acc_k_1)**2\n",
    "            \n",
    "            #(2(a*c+b*d))^2\n",
    "            acc_k_2 = 0\n",
    "            for k in range(m,p+1):\n",
    "                acc_k_2 += quat_arr[k,0]*quat_arr[k,2]+quat_arr[k,1]*quat_arr[k,3]\n",
    "            acc_k_2 = (2*acc_k_2)**2\n",
    "            \n",
    "        acc_p+=math.sqrt(acc_k_0+acc_k_1+acc_k_2)\n",
    "    acc_m+=acc_p\n",
    "    return acc_m/(n*(n-1))\n",
    "\n",
    "def compute_d_longest(knot):\n",
    "    max_distance = 0\n",
    "    for vertex1_index in range(0,knot.vertices.shape[0]-1):\n",
    "        for vertex2_index in range(vertex1_index,knot.vertices.shape[0]):\n",
    "            x1,y1,z1 = knot.vertices[vertex1_index]\n",
    "            x2,y2,z2 = knot.vertices[vertex2_index]\n",
    "            distance = math.sqrt((x1-x2)**2+(y1-y2)**2+(z1-z2)**2)\n",
    "            if distance>max_distance:\n",
    "                max_distance = distance\n",
    "    return max_distance"
   ]
  },
  {
   "cell_type": "markdown",
   "metadata": {},
   "source": [
    "#### Trying to use the formula on a single knot"
   ]
  },
  {
   "cell_type": "code",
   "execution_count": 3,
   "metadata": {
    "scrolled": false
   },
   "outputs": [
    {
     "name": "stdout",
     "output_type": "stream",
     "text": [
      "Could not import cythonised chelpers, using Python alternative. This will give the same result, but is slower.\n"
     ]
    }
   ],
   "source": [
    "from Knot import Knot\n",
    "from polygon_generation import two_complex_to_quaternion"
   ]
  },
  {
   "cell_type": "code",
   "execution_count": 4,
   "metadata": {},
   "outputs": [],
   "source": [
    "k=Knot(10)"
   ]
  },
  {
   "cell_type": "markdown",
   "metadata": {},
   "source": [
    "Prepare knot data to be used by a function"
   ]
  },
  {
   "cell_type": "code",
   "execution_count": 5,
   "metadata": {
    "scrolled": true
   },
   "outputs": [
    {
     "data": {
      "text/plain": [
       "array([[-0.10724746,  0.02206309, -0.07363437,  0.11314765],\n",
       "       [ 0.01111144,  0.07719862,  0.01085069, -0.04007913],\n",
       "       [-0.04265445,  0.07348685, -0.14077364, -0.08225034],\n",
       "       [-0.07730301,  0.13358235, -0.05355389, -0.04840375],\n",
       "       [-0.17953775, -0.06116307,  0.19231816, -0.0299549 ],\n",
       "       [ 0.01693647,  0.18853111,  0.00849724,  0.05582698],\n",
       "       [-0.03414746,  0.23052773, -0.02400299,  0.10191053],\n",
       "       [-0.06957024,  0.0256301 , -0.04405057, -0.01801645],\n",
       "       [ 0.07118419,  0.07421556, -0.08666576, -0.1348619 ],\n",
       "       [-0.12411549,  0.0517343 , -0.03538354,  0.04715654]])"
      ]
     },
     "execution_count": 5,
     "metadata": {},
     "output_type": "execute_result"
    }
   ],
   "source": [
    "quat = two_complex_to_quaternion(numpy.hstack(k.initial_random_vectors))\n",
    "quat"
   ]
  },
  {
   "cell_type": "code",
   "execution_count": 6,
   "metadata": {},
   "outputs": [
    {
     "data": {
      "text/plain": [
       "(10, 4)"
      ]
     },
     "execution_count": 6,
     "metadata": {},
     "output_type": "execute_result"
    }
   ],
   "source": [
    "quat.shape"
   ]
  },
  {
   "cell_type": "code",
   "execution_count": 7,
   "metadata": {
    "scrolled": true
   },
   "outputs": [
    {
     "data": {
      "text/plain": [
       "6.623420081739144"
      ]
     },
     "execution_count": 7,
     "metadata": {},
     "output_type": "execute_result"
    }
   ],
   "source": [
    "compute_L(k)"
   ]
  },
  {
   "cell_type": "markdown",
   "metadata": {},
   "source": [
    "### L vs Knot Emptiness correlation experiment"
   ]
  },
  {
   "cell_type": "markdown",
   "metadata": {},
   "source": [
    "Trying to find a correlation between L-value and knot ID emptiness. First, generate a lot of knots, store their L-value and whether their ID was empty or not"
   ]
  },
  {
   "cell_type": "code",
   "execution_count": 8,
   "metadata": {
    "scrolled": true
   },
   "outputs": [
    {
     "ename": "KeyboardInterrupt",
     "evalue": "",
     "traceback": [
      "\u001b[1;31m---------------------------------------------------------------------------\u001b[0m",
      "\u001b[1;31mKeyboardInterrupt\u001b[0m                         Traceback (most recent call last)",
      "\u001b[1;32m<ipython-input-8-656eabfe927d>\u001b[0m in \u001b[0;36m<module>\u001b[1;34m\u001b[0m\n\u001b[0;32m      8\u001b[0m \u001b[1;32mfor\u001b[0m \u001b[0m_\u001b[0m \u001b[1;32min\u001b[0m \u001b[0mrange\u001b[0m\u001b[1;33m(\u001b[0m\u001b[1;36m0\u001b[0m\u001b[1;33m,\u001b[0m\u001b[0mnumber_of_knots\u001b[0m\u001b[1;33m)\u001b[0m\u001b[1;33m:\u001b[0m\u001b[1;33m\u001b[0m\u001b[1;33m\u001b[0m\u001b[0m\n\u001b[0;32m      9\u001b[0m     \u001b[0mk\u001b[0m\u001b[1;33m=\u001b[0m\u001b[0mKnot\u001b[0m\u001b[1;33m(\u001b[0m\u001b[0mstick_number\u001b[0m\u001b[1;33m)\u001b[0m\u001b[1;33m\u001b[0m\u001b[1;33m\u001b[0m\u001b[0m\n\u001b[1;32m---> 10\u001b[1;33m     \u001b[0mL\u001b[0m\u001b[1;33m=\u001b[0m\u001b[0mcompute_L\u001b[0m\u001b[1;33m(\u001b[0m\u001b[0mk\u001b[0m\u001b[1;33m)\u001b[0m\u001b[1;33m\u001b[0m\u001b[1;33m\u001b[0m\u001b[0m\n\u001b[0m\u001b[0;32m     11\u001b[0m     \u001b[1;32mif\u001b[0m \u001b[0mk\u001b[0m\u001b[1;33m.\u001b[0m\u001b[0mknot_ID\u001b[0m \u001b[1;33m==\u001b[0m \u001b[1;33m[\u001b[0m\u001b[1;33m]\u001b[0m\u001b[1;33m:\u001b[0m\u001b[1;33m\u001b[0m\u001b[1;33m\u001b[0m\u001b[0m\n\u001b[0;32m     12\u001b[0m         \u001b[0mempty\u001b[0m\u001b[1;33m.\u001b[0m\u001b[0mwrite\u001b[0m\u001b[1;33m(\u001b[0m\u001b[0mstr\u001b[0m\u001b[1;33m(\u001b[0m\u001b[0mL\u001b[0m\u001b[1;33m)\u001b[0m\u001b[1;33m+\u001b[0m\u001b[1;34m'\\n'\u001b[0m\u001b[1;33m)\u001b[0m\u001b[1;33m\u001b[0m\u001b[1;33m\u001b[0m\u001b[0m\n",
      "\u001b[1;32m<ipython-input-2-70432638bee1>\u001b[0m in \u001b[0;36mcompute_L\u001b[1;34m(knot)\u001b[0m\n\u001b[0;32m     29\u001b[0m \u001b[1;33m\u001b[0m\u001b[0m\n\u001b[0;32m     30\u001b[0m             \u001b[1;31m#right side of minus\u001b[0m\u001b[1;33m\u001b[0m\u001b[1;33m\u001b[0m\u001b[1;33m\u001b[0m\u001b[0m\n\u001b[1;32m---> 31\u001b[1;33m             \u001b[0mright_k\u001b[0m \u001b[1;33m=\u001b[0m \u001b[0mcompute_right_k\u001b[0m\u001b[1;33m(\u001b[0m\u001b[0mquat_arr\u001b[0m\u001b[1;33m,\u001b[0m\u001b[0mn\u001b[0m\u001b[1;33m)\u001b[0m\u001b[1;33m\u001b[0m\u001b[1;33m\u001b[0m\u001b[0m\n\u001b[0m\u001b[0;32m     32\u001b[0m \u001b[1;33m\u001b[0m\u001b[0m\n\u001b[0;32m     33\u001b[0m             \u001b[0macc_i\u001b[0m\u001b[1;33m+=\u001b[0m\u001b[0mleft_k\u001b[0m\u001b[1;33m-\u001b[0m\u001b[0mright_k\u001b[0m\u001b[1;33m\u001b[0m\u001b[1;33m\u001b[0m\u001b[0m\n",
      "\u001b[1;32m<ipython-input-2-70432638bee1>\u001b[0m in \u001b[0;36mcompute_right_k\u001b[1;34m(quat_arr, n)\u001b[0m\n\u001b[0;32m     51\u001b[0m             \u001b[0macc_k_1\u001b[0m \u001b[1;33m=\u001b[0m \u001b[1;36m0\u001b[0m\u001b[1;33m\u001b[0m\u001b[1;33m\u001b[0m\u001b[0m\n\u001b[0;32m     52\u001b[0m             \u001b[1;32mfor\u001b[0m \u001b[0mk\u001b[0m \u001b[1;32min\u001b[0m \u001b[0mrange\u001b[0m\u001b[1;33m(\u001b[0m\u001b[0mm\u001b[0m\u001b[1;33m,\u001b[0m\u001b[0mp\u001b[0m\u001b[1;33m+\u001b[0m\u001b[1;36m1\u001b[0m\u001b[1;33m)\u001b[0m\u001b[1;33m:\u001b[0m\u001b[1;33m\u001b[0m\u001b[1;33m\u001b[0m\u001b[0m\n\u001b[1;32m---> 53\u001b[1;33m                 \u001b[0macc_k_1\u001b[0m \u001b[1;33m+=\u001b[0m \u001b[0mquat_arr\u001b[0m\u001b[1;33m[\u001b[0m\u001b[0mk\u001b[0m\u001b[1;33m,\u001b[0m\u001b[1;36m1\u001b[0m\u001b[1;33m]\u001b[0m\u001b[1;33m*\u001b[0m\u001b[0mquat_arr\u001b[0m\u001b[1;33m[\u001b[0m\u001b[0mk\u001b[0m\u001b[1;33m,\u001b[0m\u001b[1;36m2\u001b[0m\u001b[1;33m]\u001b[0m\u001b[1;33m-\u001b[0m\u001b[0mquat_arr\u001b[0m\u001b[1;33m[\u001b[0m\u001b[0mk\u001b[0m\u001b[1;33m,\u001b[0m\u001b[1;36m0\u001b[0m\u001b[1;33m]\u001b[0m\u001b[1;33m*\u001b[0m\u001b[0mquat_arr\u001b[0m\u001b[1;33m[\u001b[0m\u001b[0mk\u001b[0m\u001b[1;33m,\u001b[0m\u001b[1;36m3\u001b[0m\u001b[1;33m]\u001b[0m\u001b[1;33m\u001b[0m\u001b[1;33m\u001b[0m\u001b[0m\n\u001b[0m\u001b[0;32m     54\u001b[0m             \u001b[0macc_k_1\u001b[0m \u001b[1;33m=\u001b[0m \u001b[1;33m(\u001b[0m\u001b[1;36m2\u001b[0m\u001b[1;33m*\u001b[0m\u001b[0macc_k_1\u001b[0m\u001b[1;33m)\u001b[0m\u001b[1;33m**\u001b[0m\u001b[1;36m2\u001b[0m\u001b[1;33m\u001b[0m\u001b[1;33m\u001b[0m\u001b[0m\n\u001b[0;32m     55\u001b[0m \u001b[1;33m\u001b[0m\u001b[0m\n",
      "\u001b[1;31mKeyboardInterrupt\u001b[0m: "
     ],
     "output_type": "error"
    }
   ],
   "source": [
    "number_of_knots = 1000000\n",
    "stick_number = 11\n",
    "\n",
    "empty = open(\"empty.lval\", \"a\")\n",
    "num_empty=0\n",
    "non_empty = open(\"non_empty.lval\", \"a\")    \n",
    "\n",
    "for _ in range(0,number_of_knots):\n",
    "    k=Knot(stick_number)    \n",
    "    L=compute_L(k)\n",
    "    if k.knot_ID == []:\n",
    "        empty.write(str(L)+'\\n')       \n",
    "        num_empty+=1     \n",
    "    else:\n",
    "        non_empty.write(str(L)+'\\n')\n",
    "        non_empty.flush()\n",
    "print(\"Generated \"+str(number_of_knots)+\" knots: \"+str(num_empty)+\" of them were empty\")\n",
    "\n",
    "empty.close()\n",
    "non_empty.close()"
   ]
  },
  {
   "cell_type": "code",
   "execution_count": 18,
   "metadata": {},
   "outputs": [
    {
     "ename": "KeyboardInterrupt",
     "evalue": "",
     "traceback": [
      "\u001b[1;31m---------------------------------------------------------------------------\u001b[0m",
      "\u001b[1;31mKeyboardInterrupt\u001b[0m                         Traceback (most recent call last)",
      "\u001b[1;32m<ipython-input-18-f5ae1cb9c5ad>\u001b[0m in \u001b[0;36m<module>\u001b[1;34m\u001b[0m\n\u001b[0;32m      7\u001b[0m \u001b[1;33m\u001b[0m\u001b[0m\n\u001b[0;32m      8\u001b[0m \u001b[1;32mfor\u001b[0m \u001b[0m_\u001b[0m \u001b[1;32min\u001b[0m \u001b[0mrange\u001b[0m\u001b[1;33m(\u001b[0m\u001b[1;36m0\u001b[0m\u001b[1;33m,\u001b[0m\u001b[0mnumber_of_knots\u001b[0m\u001b[1;33m)\u001b[0m\u001b[1;33m:\u001b[0m\u001b[1;33m\u001b[0m\u001b[1;33m\u001b[0m\u001b[0m\n\u001b[1;32m----> 9\u001b[1;33m     \u001b[0mk\u001b[0m\u001b[1;33m=\u001b[0m\u001b[0mKnot\u001b[0m\u001b[1;33m(\u001b[0m\u001b[0mstick_number\u001b[0m\u001b[1;33m)\u001b[0m\u001b[1;33m\u001b[0m\u001b[1;33m\u001b[0m\u001b[0m\n\u001b[0m\u001b[0;32m     10\u001b[0m     \u001b[1;32mif\u001b[0m \u001b[0mk\u001b[0m\u001b[1;33m.\u001b[0m\u001b[0mknot_ID\u001b[0m \u001b[1;33m!=\u001b[0m \u001b[1;33m[\u001b[0m\u001b[1;33m]\u001b[0m\u001b[1;33m:\u001b[0m\u001b[1;33m\u001b[0m\u001b[1;33m\u001b[0m\u001b[0m\n\u001b[0;32m     11\u001b[0m         \u001b[0mL\u001b[0m\u001b[1;33m=\u001b[0m\u001b[0mcompute_L\u001b[0m\u001b[1;33m(\u001b[0m\u001b[0mk\u001b[0m\u001b[1;33m)\u001b[0m\u001b[1;33m\u001b[0m\u001b[1;33m\u001b[0m\u001b[0m\n",
      "\u001b[1;32m~\\Documents\\Nikolai Sannikov Projects\\PolygonKnots\\Knot.py\u001b[0m in \u001b[0;36m__init__\u001b[1;34m(self, num_sticks)\u001b[0m\n\u001b[0;32m     49\u001b[0m             \u001b[0mk\u001b[0m \u001b[1;33m=\u001b[0m \u001b[0mSpaceCurve\u001b[0m\u001b[1;33m(\u001b[0m\u001b[0mself\u001b[0m\u001b[1;33m.\u001b[0m\u001b[0mvertices\u001b[0m\u001b[1;33m)\u001b[0m\u001b[1;33m\u001b[0m\u001b[1;33m\u001b[0m\u001b[0m\n\u001b[0;32m     50\u001b[0m             \u001b[0mPD\u001b[0m \u001b[1;33m=\u001b[0m \u001b[0mk\u001b[0m\u001b[1;33m.\u001b[0m\u001b[0mplanar_diagram\u001b[0m\u001b[1;33m(\u001b[0m\u001b[1;33m)\u001b[0m\u001b[1;33m\u001b[0m\u001b[1;33m\u001b[0m\u001b[0m\n\u001b[1;32m---> 51\u001b[1;33m         \u001b[0msnappyID\u001b[0m \u001b[1;33m=\u001b[0m  \u001b[0msnappy\u001b[0m\u001b[1;33m.\u001b[0m\u001b[0mLink\u001b[0m\u001b[1;33m(\u001b[0m\u001b[0mPD\u001b[0m\u001b[1;33m)\u001b[0m\u001b[1;33m.\u001b[0m\u001b[0mexterior\u001b[0m\u001b[1;33m(\u001b[0m\u001b[1;33m)\u001b[0m\u001b[1;33m.\u001b[0m\u001b[0midentify\u001b[0m\u001b[1;33m(\u001b[0m\u001b[1;33m)\u001b[0m\u001b[1;33m\u001b[0m\u001b[1;33m\u001b[0m\u001b[0m\n\u001b[0m\u001b[0;32m     52\u001b[0m         \u001b[1;31m#snappy id has its own type, while we are only concerned with the string values\u001b[0m\u001b[1;33m\u001b[0m\u001b[1;33m\u001b[0m\u001b[1;33m\u001b[0m\u001b[0m\n\u001b[0;32m     53\u001b[0m         \u001b[0mself\u001b[0m\u001b[1;33m.\u001b[0m\u001b[0mknot_ID\u001b[0m \u001b[1;33m=\u001b[0m\u001b[1;33m[\u001b[0m\u001b[0mm\u001b[0m\u001b[1;33m.\u001b[0m\u001b[0mname\u001b[0m\u001b[1;33m(\u001b[0m\u001b[1;33m)\u001b[0m \u001b[1;32mfor\u001b[0m \u001b[0mm\u001b[0m \u001b[1;32min\u001b[0m \u001b[0msnappyID\u001b[0m\u001b[1;33m]\u001b[0m\u001b[1;33m\u001b[0m\u001b[1;33m\u001b[0m\u001b[0m\n",
      "\u001b[1;32mcython\\core/manifold.pyx\u001b[0m in \u001b[0;36mSnapPy.Manifold.identify\u001b[1;34m()\u001b[0m\n",
      "\u001b[1;32m~\\.conda\\envs\\MathProjectKnots\\lib\\site-packages\\snappy\\database.py\u001b[0m in \u001b[0;36midentify\u001b[1;34m(self, mfld, extends_to_link)\u001b[0m\n\u001b[0;32m    349\u001b[0m             \u001b[1;32mreturn\u001b[0m \u001b[1;32mFalse\u001b[0m\u001b[1;33m\u001b[0m\u001b[1;33m\u001b[0m\u001b[0m\n\u001b[0;32m    350\u001b[0m \u001b[1;33m\u001b[0m\u001b[0m\n\u001b[1;32m--> 351\u001b[1;33m         \u001b[0msibs\u001b[0m \u001b[1;33m=\u001b[0m \u001b[0mself\u001b[0m\u001b[1;33m.\u001b[0m\u001b[0msiblings\u001b[0m\u001b[1;33m(\u001b[0m\u001b[0mmfld\u001b[0m\u001b[1;33m)\u001b[0m\u001b[1;33m\u001b[0m\u001b[1;33m\u001b[0m\u001b[0m\n\u001b[0m\u001b[0;32m    352\u001b[0m         \u001b[1;32mif\u001b[0m \u001b[0mlen\u001b[0m\u001b[1;33m(\u001b[0m\u001b[0msibs\u001b[0m\u001b[1;33m)\u001b[0m \u001b[1;33m==\u001b[0m \u001b[1;36m0\u001b[0m\u001b[1;33m:\u001b[0m\u001b[1;33m\u001b[0m\u001b[1;33m\u001b[0m\u001b[0m\n\u001b[0;32m    353\u001b[0m             \u001b[1;32mreturn\u001b[0m \u001b[1;32mFalse\u001b[0m \u001b[1;31m# No hash values match\u001b[0m\u001b[1;33m\u001b[0m\u001b[1;33m\u001b[0m\u001b[0m\n",
      "\u001b[1;32m~\\.conda\\envs\\MathProjectKnots\\lib\\site-packages\\snappy\\database.py\u001b[0m in \u001b[0;36msiblings\u001b[1;34m(self, mfld)\u001b[0m\n\u001b[0;32m    318\u001b[0m         initial_candidates = self.find(\n\u001b[0;32m    319\u001b[0m           \u001b[1;34m\"volume between %f and %f and cusps=%d and betti=%d and torsion='%s'\"\u001b[0m\u001b[1;33m\u001b[0m\u001b[1;33m\u001b[0m\u001b[0m\n\u001b[1;32m--> 320\u001b[1;33m           % (v_lower, v_upper, cusps, betti, torsion))\n\u001b[0m\u001b[0;32m    321\u001b[0m         \u001b[1;32mif\u001b[0m \u001b[0mlen\u001b[0m\u001b[1;33m(\u001b[0m\u001b[0minitial_candidates\u001b[0m\u001b[1;33m)\u001b[0m \u001b[1;33m==\u001b[0m \u001b[1;36m0\u001b[0m\u001b[1;33m:\u001b[0m\u001b[1;33m\u001b[0m\u001b[1;33m\u001b[0m\u001b[0m\n\u001b[0;32m    322\u001b[0m             \u001b[1;32mreturn\u001b[0m \u001b[1;33m[\u001b[0m\u001b[1;33m]\u001b[0m\u001b[1;33m\u001b[0m\u001b[1;33m\u001b[0m\u001b[0m\n",
      "\u001b[1;32m~\\.conda\\envs\\MathProjectKnots\\lib\\site-packages\\snappy\\database.py\u001b[0m in \u001b[0;36mfind\u001b[1;34m(self, where, order_by, limit, offset)\u001b[0m\n\u001b[0;32m    302\u001b[0m         \u001b[1;32mif\u001b[0m \u001b[0moffset\u001b[0m \u001b[1;32mis\u001b[0m \u001b[1;32mnot\u001b[0m \u001b[1;32mNone\u001b[0m\u001b[1;33m:\u001b[0m\u001b[1;33m\u001b[0m\u001b[1;33m\u001b[0m\u001b[0m\n\u001b[0;32m    303\u001b[0m             \u001b[0msuffix\u001b[0m \u001b[1;33m+=\u001b[0m \u001b[1;34m' offset %d'\u001b[0m \u001b[1;33m%\u001b[0m \u001b[0moffset\u001b[0m\u001b[1;33m\u001b[0m\u001b[1;33m\u001b[0m\u001b[0m\n\u001b[1;32m--> 304\u001b[1;33m         \u001b[0mcursor\u001b[0m \u001b[1;33m=\u001b[0m \u001b[0mself\u001b[0m\u001b[1;33m.\u001b[0m\u001b[0m_cursor\u001b[0m\u001b[1;33m.\u001b[0m\u001b[0mexecute\u001b[0m\u001b[1;33m(\u001b[0m\u001b[0mself\u001b[0m\u001b[1;33m.\u001b[0m\u001b[0m_select\u001b[0m \u001b[1;33m+\u001b[0m \u001b[0msuffix\u001b[0m\u001b[1;33m)\u001b[0m\u001b[1;33m\u001b[0m\u001b[1;33m\u001b[0m\u001b[0m\n\u001b[0m\u001b[0;32m    305\u001b[0m         \u001b[1;32mreturn\u001b[0m \u001b[1;33m[\u001b[0m\u001b[0mself\u001b[0m\u001b[1;33m.\u001b[0m\u001b[0m_manifold_factory\u001b[0m\u001b[1;33m(\u001b[0m\u001b[0mrow\u001b[0m\u001b[1;33m)\u001b[0m \u001b[1;32mfor\u001b[0m \u001b[0mrow\u001b[0m \u001b[1;32min\u001b[0m \u001b[0mcursor\u001b[0m\u001b[1;33m.\u001b[0m\u001b[0mfetchall\u001b[0m\u001b[1;33m(\u001b[0m\u001b[1;33m)\u001b[0m\u001b[1;33m]\u001b[0m\u001b[1;33m\u001b[0m\u001b[1;33m\u001b[0m\u001b[0m\n\u001b[0;32m    306\u001b[0m \u001b[1;33m\u001b[0m\u001b[0m\n",
      "\u001b[1;31mKeyboardInterrupt\u001b[0m: "
     ],
     "output_type": "error"
    }
   ],
   "source": [
    "number_of_knots = 1000000\n",
    "stick_number = 11\n",
    "\n",
    "empty = open(\"empty.lval\", \"a\")\n",
    "num_empty=0\n",
    "non_empty = open(\"non_empty.lval\", \"a\")    \n",
    "\n",
    "for _ in range(0,number_of_knots):\n",
    "    k=Knot(stick_number)        \n",
    "    if k.knot_ID != []:\n",
    "        L=compute_L(k)\n",
    "        non_empty.write(str(L)+'\\n')\n",
    "        non_empty.flush()\n",
    "print(\"Generated \"+str(number_of_knots)+\" knots: \"+str(num_empty)+\" of them were empty\")\n",
    "\n",
    "empty.close()\n",
    "non_empty.close()"
   ]
  },
  {
   "cell_type": "code",
   "execution_count": 19,
   "metadata": {},
   "outputs": [],
   "source": [
    "empty = open(\"empty.lval\", \"r\").readlines()\n",
    "non_empty = open(\"non_empty.lval\", \"r\").readlines()\n",
    "\n",
    "empty=list(map(float,empty))\n",
    "non_empty=list(map(float,non_empty))\n"
   ]
  },
  {
   "cell_type": "code",
   "execution_count": 20,
   "metadata": {},
   "outputs": [
    {
     "data": {
      "text/plain": [
       "2.139432058663218"
      ]
     },
     "execution_count": 20,
     "metadata": {},
     "output_type": "execute_result"
    }
   ],
   "source": [
    "numpy.min(numpy.hstack((empty,non_empty)))"
   ]
  },
  {
   "cell_type": "code",
   "execution_count": 21,
   "metadata": {},
   "outputs": [
    {
     "data": {
      "text/plain": [
       "(312051, 2612)"
      ]
     },
     "execution_count": 21,
     "metadata": {},
     "output_type": "execute_result"
    }
   ],
   "source": [
    "(len(empty), len(non_empty))"
   ]
  },
  {
   "cell_type": "code",
   "execution_count": 32,
   "metadata": {
    "scrolled": true
   },
   "outputs": [
    {
     "data": {
      "image/png": "[encoded data removed]",
      "text/plain": [
       "<Figure size 432x288 with 1 Axes>"
      ]
     },
     "metadata": {
      "needs_background": "light"
     },
     "output_type": "display_data"
    }
   ],
   "source": [
    "import numpy\n",
    "from matplotlib import pyplot\n",
    "%matplotlib inline\n",
    "\n",
    "min_L = numpy.min(numpy.hstack((empty,non_empty)))\n",
    "max_L = numpy.max(numpy.hstack((empty,non_empty)))\n",
    "bins = numpy.linspace(min_L, max_L, 30)\n",
    "\n",
    "pyplot.hist(empty, bins, alpha=0.5, label='empty')\n",
    "ampl=100\n",
    "pyplot.hist(non_empty*ampl, bins, alpha=0.5, label='non-empty * '+str(ampl))\n",
    "pyplot.legend(loc='upper right')\n",
    "pyplot.show()\n"
   ]
  }
 ],
 "metadata": {
  "kernelspec": {
   "display_name": "Python 3",
   "language": "python",
   "name": "python3"
  },
  "language_info": {
   "codemirror_mode": {
    "name": "ipython",
    "version": 3
   },
   "file_extension": ".py",
   "mimetype": "text/x-python",
   "name": "python",
   "nbconvert_exporter": "python",
   "pygments_lexer": "ipython3",
   "version": "3.7.3"
  }
 },
 "nbformat": 4,
 "nbformat_minor": 2
}
