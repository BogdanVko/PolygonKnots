{
 "cells": [
  {
   "cell_type": "code",
   "execution_count": null,
   "metadata": {},
   "outputs": [
    {
     "name": "stdout",
     "output_type": "stream",
     "text": [
      "100% [................................................................................] 2426 / 2426Took 982 to generate this one\n",
      "New knot type: K3a1\n",
      "Took 1413 to generate this one\n",
      "Took 147 to generate this one\n",
      "Took 174 to generate this one\n",
      "Took 217 to generate this one\n",
      "Took 24 to generate this one\n",
      "Took 855 to generate this one\n",
      "Took 434 to generate this one\n"
     ]
    }
   ],
   "source": [
    "from knot_table_experiment import *\n",
    "\n",
    "knot_table = retrieve_table()\n",
    "while(True):\n",
    "    k = generate_random_interesting_knot(10)\n",
    "    table_lookup(k,knot_table)"
   ]
  }
 ],
 "metadata": {
  "kernelspec": {
   "display_name": "Python 3",
   "language": "python",
   "name": "python3"
  },
  "language_info": {
   "codemirror_mode": {
    "name": "ipython",
    "version": 3
   },
   "file_extension": ".py",
   "mimetype": "text/x-python",
   "name": "python",
   "nbconvert_exporter": "python",
   "pygments_lexer": "ipython3",
   "version": "3.7.3"
  }
 },
 "nbformat": 4,
 "nbformat_minor": 2
}
