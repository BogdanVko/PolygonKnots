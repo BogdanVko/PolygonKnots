{
 "cells": [
  {
   "cell_type": "markdown",
   "metadata": {},
   "source": [
    "# Experiments with Nikita's formula"
   ]
  },
  {
   "cell_type": "markdown",
   "metadata": {},
   "source": [
    "### Implementing function to compute L-value"
   ]
  },
  {
   "cell_type": "markdown",
   "metadata": {},
   "source": [
    "$${L =\\frac{\\sqrt{\\sum_{j=1}^{n}\\sum_{i=1}^{n}(\\sqrt{\\sum_{k=i}^{j}{(a_{k}^{2}+b_{k}^{2}-c_{k}^{2}-d_{k}^{2}})^{2}+(\\sum_{k=i}^{j}2(b_{k}c_{k}-a_{k}d_{k}))^{2}+(\\sum_{k=i}^{j}2(a_{k}c_{k}+b_{k}d_{k}))^{2}}-\\frac{\\sum_{m=1}^{n}\\sum_{p=1}^{n}(\\sqrt{(\\sum_{k=m}^{p}a_{k}^{2}+b_{k}^{2}-c_{k}^{2}-d_{k}^{2})^{2}+(\\sum_{k=m}^{p}2(b_{k}c_{k}-a_{k}d_{k}))^{2}+(\\sum_{k=m}^{p}2(a_{k}c_{k}+b_{k}d_{k}))^{2}})}{n(n-1)})^{2}}}{d_{londest}}}$$"
   ]
  },
  {
   "cell_type": "code",
   "execution_count": 1,
   "metadata": {},
   "outputs": [],
   "source": [
    "import numpy\n",
    "import math"
   ]
  },
  {
   "cell_type": "code",
   "execution_count": 2,
   "metadata": {},
   "outputs": [],
   "source": [
    "def compute_L(knot):\n",
    "    quat_arr = two_complex_to_quaternion(numpy.hstack(knot.initial_random_vectors))\n",
    "    n = quat_arr.shape[0]\n",
    "    \n",
    "    \n",
    "    acc_j=0\n",
    "    for j in range(0,n):\n",
    "        acc_i=0\n",
    "        for i in range(0,n):            \n",
    "            #(a^2+b^2+c^2+d^2)^2\n",
    "            acc_k_0 = 0\n",
    "            for k in range(i,j+1):\n",
    "                acc_k_0 += quat_arr[k,0]**2+quat_arr[k,1]**2+quat_arr[k,2]**2+quat_arr[k,3]**2\n",
    "            acc_k_0 = acc_k_0**2\n",
    "            \n",
    "            #(2(b*c-a*d))^2\n",
    "            acc_k_1 = 0\n",
    "            for k in range(i,j+1):\n",
    "                acc_k_1 += quat_arr[k,1]*quat_arr[k,2]-quat_arr[k,0]*quat_arr[k,3]\n",
    "            acc_k_1 = (2*acc_k_1)**2\n",
    "            \n",
    "            #(2(a*c+b*d))^2\n",
    "            acc_k_2 = 0\n",
    "            for k in range(i,j+1):\n",
    "                acc_k_2 += quat_arr[k,0]*quat_arr[k,2]+quat_arr[k,1]*quat_arr[k,3]\n",
    "            acc_k_2 = (2*acc_k_2)**2\n",
    "            \n",
    "            left_k = math.sqrt(acc_k_0+acc_k_1+acc_k_2)\n",
    "            \n",
    "            #right side of minus\n",
    "            right_k = compute_right_k(quat_arr,n)\n",
    "            \n",
    "            acc_i+=left_k-right_k\n",
    "        acc_j+=acc_i\n",
    "        \n",
    "    d_longest = compute_d_longest(knot)#numpy.max(quat_arr[:,3])\n",
    "    return math.sqrt(acc_j**2)/d_longest\n",
    "\n",
    "def compute_right_k(quat_arr,n):\n",
    "    acc_m=0\n",
    "    for m in range(0,n):\n",
    "        acc_p=0\n",
    "        for p in range(0,n):            \n",
    "            #(a^2+b^2+c^2+d^2)^2\n",
    "            acc_k_0 = 0\n",
    "            for k in range(m,p+1):\n",
    "                acc_k_0 += quat_arr[k,0]**2+quat_arr[k,1]**2+quat_arr[k,2]**2+quat_arr[k,3]**2\n",
    "            acc_k_0 = acc_k_0**2\n",
    "            \n",
    "            #(2(b*c-a*d))^2\n",
    "            acc_k_1 = 0\n",
    "            for k in range(m,p+1):\n",
    "                acc_k_1 += quat_arr[k,1]*quat_arr[k,2]-quat_arr[k,0]*quat_arr[k,3]\n",
    "            acc_k_1 = (2*acc_k_1)**2\n",
    "            \n",
    "            #(2(a*c+b*d))^2\n",
    "            acc_k_2 = 0\n",
    "            for k in range(m,p+1):\n",
    "                acc_k_2 += quat_arr[k,0]*quat_arr[k,2]+quat_arr[k,1]*quat_arr[k,3]\n",
    "            acc_k_2 = (2*acc_k_2)**2\n",
    "            \n",
    "        acc_p+=math.sqrt(acc_k_0+acc_k_1+acc_k_2)\n",
    "    acc_m+=acc_p\n",
    "    return acc_m/(n*(n-1))\n",
    "\n",
    "def compute_d_longest(knot):\n",
    "    max_distance = 0\n",
    "    for row_index in range(-1,knot.vertices.shape[0]-1):\n",
    "        x1,y1,z1 = knot.vertices[row_index]\n",
    "        x2,y2,z2 = knot.vertices[row_index+1]\n",
    "        distance = math.sqrt((x1-x2)**2+(y1-y2)**2+(z1-z2)**2)\n",
    "        if distance>max_distance:\n",
    "            max_distance = distance\n",
    "    return max_distance"
   ]
  },
  {
   "cell_type": "markdown",
   "metadata": {},
   "source": [
    "#### Trying to use the formula on a single knot"
   ]
  },
  {
   "cell_type": "code",
   "execution_count": 3,
   "metadata": {
    "scrolled": false
   },
   "outputs": [
    {
     "name": "stdout",
     "output_type": "stream",
     "text": [
      "Could not import cythonised chelpers, using Python alternative. This will give the same result, but is slower.\n"
     ]
    }
   ],
   "source": [
    "from Knot import Knot\n",
    "from polygon_generation import two_complex_to_quaternion"
   ]
  },
  {
   "cell_type": "code",
   "execution_count": 4,
   "metadata": {},
   "outputs": [],
   "source": [
    "k=Knot(10)"
   ]
  },
  {
   "cell_type": "markdown",
   "metadata": {},
   "source": [
    "Prepare knot data to be used by a function"
   ]
  },
  {
   "cell_type": "code",
   "execution_count": 5,
   "metadata": {
    "scrolled": true
   },
   "outputs": [
    {
     "data": {
      "text/plain": [
       "array([[ 0.0657906 , -0.06049827,  0.00722672, -0.03619034],\n",
       "       [-0.09868116, -0.05562064,  0.00206491, -0.00807604],\n",
       "       [ 0.05596643,  0.08867505, -0.05095282,  0.03139652],\n",
       "       [ 0.13405874, -0.1134954 ,  0.00210082, -0.05610541],\n",
       "       [ 0.03220487, -0.09883504,  0.07741405,  0.11606762],\n",
       "       [ 0.03148044,  0.06458276,  0.11264924, -0.11543953],\n",
       "       [-0.03920339, -0.13563714,  0.19188068, -0.09307664],\n",
       "       [-0.03390363,  0.05494245, -0.00180784,  0.04240316],\n",
       "       [-0.03280326, -0.04151326,  0.0406739 ,  0.03401839],\n",
       "       [ 0.11079335, -0.04610651, -0.04469728, -0.13247988]])"
      ]
     },
     "execution_count": 5,
     "metadata": {},
     "output_type": "execute_result"
    }
   ],
   "source": [
    "quat = two_complex_to_quaternion(numpy.hstack(k.initial_random_vectors))\n",
    "quat"
   ]
  },
  {
   "cell_type": "code",
   "execution_count": 6,
   "metadata": {},
   "outputs": [
    {
     "data": {
      "text/plain": [
       "(10, 4)"
      ]
     },
     "execution_count": 6,
     "metadata": {},
     "output_type": "execute_result"
    }
   ],
   "source": [
    "quat.shape"
   ]
  },
  {
   "cell_type": "code",
   "execution_count": 7,
   "metadata": {
    "scrolled": true
   },
   "outputs": [
    {
     "data": {
      "text/plain": [
       "12.450314150193758"
      ]
     },
     "execution_count": 7,
     "metadata": {},
     "output_type": "execute_result"
    }
   ],
   "source": [
    "compute_L(k)"
   ]
  },
  {
   "cell_type": "markdown",
   "metadata": {},
   "source": [
    "### L vs Knot Emptiness correlation experiment"
   ]
  },
  {
   "cell_type": "markdown",
   "metadata": {},
   "source": [
    "Trying to find a correlation between L-value and knot ID emptiness. First, generate a lot of knots, store their L-value and whether their ID was empty or not"
   ]
  },
  {
   "cell_type": "code",
   "execution_count": 8,
   "metadata": {},
   "outputs": [],
   "source": [
    "number_of_knots = 100\n",
    "stick_number = 10"
   ]
  },
  {
   "cell_type": "code",
   "execution_count": 10,
   "metadata": {},
   "outputs": [
    {
     "name": "stdout",
     "output_type": "stream",
     "text": [
      "Generated 100 knots: 100 of them were empty\n"
     ]
    }
   ],
   "source": [
    "empty=[]\n",
    "non_empty=[]\n",
    "for _ in range(0,number_of_knots):\n",
    "    k=Knot(stick_number)    \n",
    "    L=compute_L(k)\n",
    "    if k.knot_ID == []:\n",
    "        empty.append(L)\n",
    "    else:\n",
    "        non_empty.append(L)\n",
    "print(\"Generated \"+str(number_of_knots)+\" knots: \"+str(len(empty))+\" of them were empty\")"
   ]
  },
  {
   "cell_type": "code",
   "execution_count": 18,
   "metadata": {},
   "outputs": [
    {
     "data": {
      "text/plain": [
       "8.84323665806784"
      ]
     },
     "execution_count": 18,
     "metadata": {},
     "output_type": "execute_result"
    }
   ],
   "source": [
    "numpy.min(numpy.hstack((empty,non_empty)))"
   ]
  },
  {
   "cell_type": "code",
   "execution_count": 24,
   "metadata": {
    "scrolled": true
   },
   "outputs": [
    {
     "data": {
      "image/png": "[encoded data removed]",
      "text/plain": [
       "<Figure size 432x288 with 1 Axes>"
      ]
     },
     "metadata": {
      "needs_background": "light"
     },
     "output_type": "display_data"
    }
   ],
   "source": [
    "import numpy\n",
    "from matplotlib import pyplot\n",
    "%matplotlib inline\n",
    "\n",
    "min_L = numpy.min(numpy.hstack((empty,non_empty)))\n",
    "max_L = numpy.max(numpy.hstack((empty,non_empty)))\n",
    "bins = numpy.linspace(min_L, max_L, 10)\n",
    "\n",
    "pyplot.hist(empty, bins, alpha=0.5, label='empty')\n",
    "pyplot.hist(non_empty, bins, alpha=0.5, label='non-empty')\n",
    "pyplot.legend(loc='upper right')\n",
    "pyplot.show()\n"
   ]
  }
 ],
 "metadata": {
  "kernelspec": {
   "display_name": "Python 3",
   "language": "python",
   "name": "python3"
  },
  "language_info": {
   "codemirror_mode": {
    "name": "ipython",
    "version": 3
   },
   "file_extension": ".py",
   "mimetype": "text/x-python",
   "name": "python",
   "nbconvert_exporter": "python",
   "pygments_lexer": "ipython3",
   "version": "3.7.3"
  }
 },
 "nbformat": 4,
 "nbformat_minor": 2
}
